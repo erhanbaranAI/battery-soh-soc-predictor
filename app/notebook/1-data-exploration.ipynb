{
 "cells": [
  {
   "cell_type": "markdown",
   "id": "c6eec9db-9c47-404a-8b1c-9145e024c4b6",
   "metadata": {},
   "source": [
    "### .mat dosyalarının içeriğini inceleyerek yapıyı anlamak"
   ]
  },
  {
   "cell_type": "code",
   "execution_count": 2,
   "id": "d71d6b48-7b23-47d4-9624-30c1da035ac4",
   "metadata": {},
   "outputs": [
    {
     "data": {
      "text/plain": [
       "['B0005.mat', 'B0006.mat', 'B0018.mat']"
      ]
     },
     "execution_count": 2,
     "metadata": {},
     "output_type": "execute_result"
    }
   ],
   "source": [
    "import os\n",
    "\n",
    "raw_data_path = \"../data/1-raw\"\n",
    "files = os.listdir(raw_data_path)\n",
    "files"
   ]
  },
  {
   "cell_type": "markdown",
   "id": "c0e8e0f1-cbf1-41f1-b17d-9279cdc05fa4",
   "metadata": {},
   "source": [
    "#### bir .mat dosyasını yükleyip yapısını incelemek"
   ]
  },
  {
   "cell_type": "code",
   "execution_count": 4,
   "id": "ec4ae3b6-3638-40ae-95eb-bcf0804b36cb",
   "metadata": {},
   "outputs": [
    {
     "data": {
      "text/plain": [
       "dict_keys(['__header__', '__version__', '__globals__', 'B0005'])"
      ]
     },
     "execution_count": 4,
     "metadata": {},
     "output_type": "execute_result"
    }
   ],
   "source": [
    "import scipy.io as sio\n",
    "\n",
    "b0005_path = os.path.join(raw_data_path, \"B0005.mat\")\n",
    "data = sio.loadmat(b0005_path)\n",
    "data.keys()"
   ]
  },
  {
   "cell_type": "code",
   "execution_count": 5,
   "id": "7642735c-2252-4cd5-bc97-735573306132",
   "metadata": {},
   "outputs": [
    {
     "data": {
      "text/plain": [
       "dtype([('cycle', 'O')])"
      ]
     },
     "execution_count": 5,
     "metadata": {},
     "output_type": "execute_result"
    }
   ],
   "source": [
    "battery_data = data[\"B0005\"]\n",
    "battery_struct = battery_data[0, 0]\n",
    "battery_struct.dtype"
   ]
  },
  {
   "cell_type": "code",
   "execution_count": 6,
   "id": "8266715d-4a8b-43fb-ad28-369a76e0596a",
   "metadata": {},
   "outputs": [
    {
     "name": "stdout",
     "output_type": "stream",
     "text": [
      "Total cycles: 616\n"
     ]
    },
    {
     "data": {
      "text/plain": [
       "dtype([('type', 'O'), ('ambient_temperature', 'O'), ('time', 'O'), ('data', 'O')])"
      ]
     },
     "execution_count": 6,
     "metadata": {},
     "output_type": "execute_result"
    }
   ],
   "source": [
    "cycles = battery_struct[\"cycle\"][0]\n",
    "print(\"Total cycles:\", len(cycles))\n",
    "cycles.dtype"
   ]
  },
  {
   "cell_type": "code",
   "execution_count": 7,
   "id": "b961c52b-eff6-4e02-92ba-a344d4ee82dd",
   "metadata": {},
   "outputs": [
    {
     "name": "stdout",
     "output_type": "stream",
     "text": [
      "Cycle içindeki alanlar:\n",
      " - type\n",
      " - ambient_temperature\n",
      " - time\n",
      " - data\n"
     ]
    }
   ],
   "source": [
    "sample_cycle = cycles[0]\n",
    "\n",
    "print(\"Cycle içindeki alanlar:\")\n",
    "for field in sample_cycle.dtype.names:\n",
    "    print(f\" - {field}\")"
   ]
  },
  {
   "cell_type": "markdown",
   "id": "b74708fd-590c-4157-ae36-05b538d15c56",
   "metadata": {},
   "source": [
    "İlk cycle'ın iç yapısını inceleyince her cycle'ın 'type', 'ambient_temperature', 'time' ve 'data' alsnlarını görüyorz. Bu alanların içeriklerine tüm .mat dosyalarıyla toplıca bakalım.."
   ]
  },
  {
   "cell_type": "code",
   "execution_count": 9,
   "id": "2923321c-1993-49c8-824a-1683b35a7a07",
   "metadata": {},
   "outputs": [
    {
     "name": "stdout",
     "output_type": "stream",
     "text": [
      "\n",
      "--- B0005.mat ---\n",
      "Cycle 'type' alanındaki değerler:\n",
      " - impedance\n",
      " - discharge\n",
      " - charge\n",
      "\n",
      "Data 'impedance' alanındaki ölçüm başlıkları:\n",
      " - Sense_current\n",
      " - Battery_current\n",
      " - Current_ratio\n",
      " - Battery_impedance\n",
      " - Rectified_Impedance\n",
      " - Re\n",
      " - Rct\n",
      "Ortam sıcaklığı (ambient_temperature): 24\n",
      "Zaman adımı sayısı (time): 6\n",
      "İlk 5 zaman verisi: [2008.    4.   18.   20.   55.]\n",
      "\n",
      "Data 'discharge' alanındaki ölçüm başlıkları:\n",
      " - Voltage_measured\n",
      " - Current_measured\n",
      " - Temperature_measured\n",
      " - Current_load\n",
      " - Voltage_load\n",
      " - Time\n",
      " - Capacity\n",
      "Ortam sıcaklığı (ambient_temperature): 24\n",
      "Zaman adımı sayısı (time): 6\n",
      "İlk 5 zaman verisi: [2.008e+03 4.000e+00 2.000e+00 1.500e+01 2.500e+01]\n",
      "\n",
      "Data 'charge' alanındaki ölçüm başlıkları:\n",
      " - Voltage_measured\n",
      " - Current_measured\n",
      " - Temperature_measured\n",
      " - Current_charge\n",
      " - Voltage_charge\n",
      " - Time\n",
      "Ortam sıcaklığı (ambient_temperature): 24\n",
      "Zaman adımı sayısı (time): 6\n",
      "İlk 5 zaman verisi: [2.008e+03 4.000e+00 2.000e+00 1.300e+01 8.000e+00]\n",
      "\n",
      "--- B0006.mat ---\n",
      "Cycle 'type' alanındaki değerler:\n",
      " - impedance\n",
      " - discharge\n",
      " - charge\n",
      "\n",
      "Data 'impedance' alanındaki ölçüm başlıkları:\n",
      " - Sense_current\n",
      " - Battery_current\n",
      " - Current_ratio\n",
      " - Battery_impedance\n",
      " - Rectified_Impedance\n",
      " - Re\n",
      " - Rct\n",
      "Ortam sıcaklığı (ambient_temperature): 24\n",
      "Zaman adımı sayısı (time): 6\n",
      "İlk 5 zaman verisi: [2008.    4.   18.   20.   55.]\n",
      "\n",
      "Data 'discharge' alanındaki ölçüm başlıkları:\n",
      " - Voltage_measured\n",
      " - Current_measured\n",
      " - Temperature_measured\n",
      " - Current_load\n",
      " - Voltage_load\n",
      " - Time\n",
      " - Capacity\n",
      "Ortam sıcaklığı (ambient_temperature): 24\n",
      "Zaman adımı sayısı (time): 6\n",
      "İlk 5 zaman verisi: [2.008e+03 4.000e+00 2.000e+00 1.500e+01 2.500e+01]\n",
      "\n",
      "Data 'charge' alanındaki ölçüm başlıkları:\n",
      " - Voltage_measured\n",
      " - Current_measured\n",
      " - Temperature_measured\n",
      " - Current_charge\n",
      " - Voltage_charge\n",
      " - Time\n",
      "Ortam sıcaklığı (ambient_temperature): 24\n",
      "Zaman adımı sayısı (time): 6\n",
      "İlk 5 zaman verisi: [2.008e+03 4.000e+00 2.000e+00 1.300e+01 8.000e+00]\n",
      "\n",
      "--- B0018.mat ---\n",
      "Cycle 'type' alanındaki değerler:\n",
      " - impedance\n",
      " - discharge\n",
      " - charge\n",
      "\n",
      "Data 'impedance' alanındaki ölçüm başlıkları:\n",
      " - Sense_current\n",
      " - Battery_current\n",
      " - Current_ratio\n",
      " - Battery_impedance\n",
      " - Rectified_Impedance\n",
      " - Re\n",
      " - Rct\n",
      "Ortam sıcaklığı (ambient_temperature): 24\n",
      "Zaman adımı sayısı (time): 6\n",
      "İlk 5 zaman verisi: [2008.    7.    7.   14.   43.]\n",
      "\n",
      "Data 'discharge' alanındaki ölçüm başlıkları:\n",
      " - Voltage_measured\n",
      " - Current_measured\n",
      " - Temperature_measured\n",
      " - Current_load\n",
      " - Voltage_load\n",
      " - Time\n",
      " - Capacity\n",
      "Ortam sıcaklığı (ambient_temperature): 24\n",
      "Zaman adımı sayısı (time): 6\n",
      "İlk 5 zaman verisi: [2008.    7.    7.   15.   15.]\n",
      "\n",
      "Data 'charge' alanındaki ölçüm başlıkları:\n",
      " - Voltage_measured\n",
      " - Current_measured\n",
      " - Temperature_measured\n",
      " - Current_charge\n",
      " - Voltage_charge\n",
      " - Time\n",
      "Ortam sıcaklığı (ambient_temperature): 24\n",
      "Zaman adımı sayısı (time): 6\n",
      "İlk 5 zaman verisi: [2008.    7.    7.   12.   26.]\n"
     ]
    }
   ],
   "source": [
    "raw_data_path = \"../data/1-raw\"\n",
    "mat_files = [f for f in os.listdir(raw_data_path) if f.endswith(\".mat\")]\n",
    "\n",
    "for mat_file in mat_files:\n",
    "    print(f\"\\n--- {mat_file} ---\")\n",
    "\n",
    "    file_path = os.path.join(raw_data_path, mat_file)\n",
    "    data = sio.loadmat(file_path)\n",
    "\n",
    "    key = list(data.keys())[-1]\n",
    "    battery_data = data[key]\n",
    "    battery_struct = battery_data[0, 0]\n",
    "    cycles = battery_struct[\"cycle\"][0]\n",
    "\n",
    "    # Benzersiz cycle type değerlerini al\n",
    "    cycle_types = set()\n",
    "    for cycle in cycles:\n",
    "        cycle_type = cycle[\"type\"][0]\n",
    "        cycle_types.add(cycle_type)\n",
    "\n",
    "    print(\"Cycle 'type' alanındaki değerler:\")\n",
    "    for t in cycle_types:\n",
    "        print(\" -\", t)\n",
    "\n",
    "    # Her tür için ilk cycle'ı bul ve başlıkları yazdır\n",
    "    for t in cycle_types:\n",
    "        for cycle in cycles:\n",
    "            if cycle[\"type\"][0] == t:\n",
    "                print(f\"\\nData '{t}' alanındaki ölçüm başlıkları:\")\n",
    "                data_struct = cycle[\"data\"][0, 0]\n",
    "                for name in data_struct.dtype.names:\n",
    "                    print(\" -\", name)\n",
    "\n",
    "                # Ambient Temperature\n",
    "                ambient_temp = cycle[\"ambient_temperature\"][0][0]\n",
    "                print(f\"Ortam sıcaklığı (ambient_temperature): {ambient_temp}\")\n",
    "\n",
    "                # Time\n",
    "                time_series = cycle[\"time\"][0]\n",
    "                print(f\"Zaman adımı sayısı (time): {len(time_series)}\")\n",
    "                print(f\"İlk 5 zaman verisi: {time_series[:5]}\")\n",
    "                break  # sadece ilk örnek yeterli\n"
   ]
  },
  {
   "cell_type": "code",
   "execution_count": 10,
   "id": "7a96f306-4338-4abd-9e38-d7a67a101b0d",
   "metadata": {},
   "outputs": [
    {
     "name": "stdout",
     "output_type": "stream",
     "text": [
      "\n",
      "--- B0005.mat ---\n",
      "Discharge veri sayısı: 168\n",
      "Charge veri sayısı: 170\n",
      "Impedance veri sayısı: 278\n",
      "\n",
      "--- B0006.mat ---\n",
      "Discharge veri sayısı: 168\n",
      "Charge veri sayısı: 170\n",
      "Impedance veri sayısı: 278\n",
      "\n",
      "--- B0018.mat ---\n",
      "Discharge veri sayısı: 132\n",
      "Charge veri sayısı: 134\n",
      "Impedance veri sayısı: 53\n"
     ]
    }
   ],
   "source": [
    "raw_data_path = \"../data/1-raw\"\n",
    "mat_files = [f for f in os.listdir(raw_data_path) if f.endswith(\".mat\")]\n",
    "\n",
    "for mat_file in mat_files:\n",
    "    file_path = os.path.join(raw_data_path, mat_file)\n",
    "    data = sio.loadmat(file_path)\n",
    "    key = list(data.keys())[-1]\n",
    "    battery_data = data[key]\n",
    "    battery_struct = battery_data[0, 0]\n",
    "    cycles = battery_struct[\"cycle\"][0]\n",
    "\n",
    "    type_counts = {\"discharge\": 0, \"charge\": 0, \"impedance\": 0}\n",
    "\n",
    "    for cycle in cycles:\n",
    "        cycle_type = cycle[\"type\"][0]\n",
    "        if cycle_type in type_counts:\n",
    "            type_counts[cycle_type] += 1\n",
    "\n",
    "    print(f\"\\n--- {mat_file} ---\")\n",
    "    for t, count in type_counts.items():\n",
    "        print(f\"{t.capitalize()} veri sayısı: {count}\")\n"
   ]
  },
  {
   "cell_type": "markdown",
   "id": "8736fefc-177d-47b6-b984-8f93dbef1d4b",
   "metadata": {},
   "source": [
    "Her batarya için farklı cycle türlerinin (discharge, charge, impedance) kaç kez tekrar ettiğini analiz ettik.\n",
    "Toplam cycle'ların sayıları birbirine yakın oldupu için içerdiği değişkenlere de bakmıştık oradan yola çıkarak ve SoH/SoC formüllerinde ve hesaplamalarında\n",
    "kullanılabilecek önemli olan \"Capacity\" değişkeni yalnızca 'discharge' türünde bulunmaktadır. discharge verileri tam ve doğrudan modellemeye uygun formatta olduğu için sadece bu verilerle devam edilecektir."
   ]
  },
  {
   "cell_type": "markdown",
   "id": "3f3a867e-c162-4dfb-9452-8eb600063546",
   "metadata": {},
   "source": [
    ".mat dosyasındaki veri yapısı çok katmanlı (nested struct) bir yapı içerdiği için doğrudan inceleme işlemleri hem zaman alıcı hem de okunsbilirlik açısından verimsizdir.\n",
    "Bu nedenle, analiz ve görselleştirme işlemleri için veriyi düzleştirşlmiş ve standartlaştırılmış .csv formatına dönğştürmek çok daha kulanışlıdır."
   ]
  },
  {
   "cell_type": "code",
   "execution_count": 13,
   "id": "701c7419-3b97-440c-96de-d62dd23e6123",
   "metadata": {},
   "outputs": [],
   "source": [
    "import pandas as pd\n",
    "import scipy\n",
    "\n",
    "def extract_discharge_cycles(mat_file_path, battery_name):\n",
    "    mat = scipy.io.loadmat(mat_file_path)\n",
    "    data = mat[battery_name][0][0]\n",
    "    cycles = data['cycle'][0]\n",
    "    \n",
    "    records = []\n",
    "    discharge_index = 1  # Discharge sırası (1'den başlat)\n",
    "\n",
    "    for i, cycle in enumerate(cycles):\n",
    "        if cycle['type'][0] != 'discharge':\n",
    "            continue\n",
    "\n",
    "        c_data = cycle['data'][0, 0]\n",
    "\n",
    "        voltage = c_data['Voltage_measured'][0]\n",
    "        current = c_data['Current_measured'][0]\n",
    "        temperature = c_data['Temperature_measured'][0]\n",
    "        time = c_data['Time'][0]\n",
    "        if 'Capacity' in c_data.dtype.names:\n",
    "            cap = c_data['Capacity']\n",
    "            capacity_array = cap[0] if cap.ndim == 2 else cap\n",
    "            capacity = capacity_array if len(capacity_array) > 1 else [capacity_array[0]] * len(time)\n",
    "        else:\n",
    "            capacity = [None] * len(time)\n",
    "\n",
    "\n",
    "        for j in range(len(voltage)):\n",
    "            records.append({\n",
    "                \"battery\": battery_name,\n",
    "                \"original_cycle\": i,               # .mat içindeki gerçek cycle index\n",
    "                \"discharge_cycle\": discharge_index,  # Sıralı discharge index\n",
    "                \"time\": time[j],\n",
    "                \"voltage\": voltage[j],\n",
    "                \"current\": current[j],\n",
    "                \"temperature\": temperature[j],\n",
    "                \"capacity\": capacity[j]\n",
    "            })\n",
    "\n",
    "        discharge_index += 1\n",
    "\n",
    "    return pd.DataFrame(records)\n"
   ]
  },
  {
   "cell_type": "code",
   "execution_count": null,
   "id": "7334d7e3-f32e-4af6-abd5-9ff33b653a0b",
   "metadata": {},
   "outputs": [
    {
     "name": "stdout",
     "output_type": "stream",
     "text": [
      "Processing B0005...\n",
      "Saved to ../data/2-processed_csv\\B0005_discharge.csv\n",
      "Processing B0006...\n",
      "Saved to ../data/2-processed_csv\\B0006_discharge.csv\n",
      "Processing B0018...\n",
      "Saved to ../data/2-processed_csv\\B0018_discharge.csv\n"
     ]
    }
   ],
   "source": [
    "def process_all_batteries(mat_files_dir, output_dir, battery_names):\n",
    "    os.makedirs(output_dir, exist_ok=True)\n",
    "\n",
    "    for name in battery_names:\n",
    "        mat_path = os.path.join(mat_files_dir, f\"{name}.mat\")\n",
    "        print(f\"Processing {name}...\")\n",
    "        df = extract_discharge_cycles(mat_path, name)\n",
    "        csv_path = os.path.join(output_dir, f\"{name}_discharge.csv\")\n",
    "        df.to_csv(csv_path, index=False)\n",
    "        print(f\"Saved to {csv_path}\")\n",
    "\n",
    "battery_files = ['B0005', 'B0006', 'B0018']\n",
    "output_directory = '../data/2-processed_csv'\n",
    "process_all_batteries(raw_data_path, output_directory, battery_files)\n"
   ]
  },
  {
   "cell_type": "markdown",
   "id": "036f9223-03cc-42c2-8447-5120cdf10f04",
   "metadata": {
    "jp-MarkdownHeadingCollapsed": true
   },
   "source": [
    "Tüm batarya dosyaları için yalnızca 'discharge' olan cycle'lar seçilmiştir.\n",
    "Bu cycle'lardaki zaman ve ölçüm değerleri satır bazında düzleştirilmiş ve 'cycle', 'time', 'ambient_temperature' gibi sabit değişkenlerle birlikte tek bir tabloya yazılmıştır.\n",
    "Çıktı olarak her batarya için ayrı .csv dosyaları oluşturulmuştur.\n"
   ]
  },
  {
   "cell_type": "markdown",
   "id": "1d3b6840-8b8e-4773-9c6b-50cd85fe56b2",
   "metadata": {},
   "source": [
    "Tüm .csv dosyaları tek bir veri kümesinde birleştirerek daha kolay yönetebiliriz. battery sütunu LabelEncoder ile sayısal olarak dönüştürüp ve battery_encoded adıyla veri setine ekleyelim. Bu dosyayı 2. notebook'ta Keşifsel Veri Analizi (EDA) aşamaları için kullanıcam.ç"
   ]
  },
  {
   "cell_type": "code",
   "execution_count": 17,
   "id": "340256c6-9bf2-4362-aa6a-3be20ca209d5",
   "metadata": {},
   "outputs": [
    {
     "name": "stdout",
     "output_type": "stream",
     "text": [
      "Battery label encoding eşlemesi: {'B0005': 0, 'B0006': 1, 'B0018': 2}\n",
      "✅ Veriler birleştirildi ve kaydedildi: all_batteries_discharge_combined.csv\n"
     ]
    }
   ],
   "source": [
    "from sklearn.preprocessing import LabelEncoder\n",
    "\n",
    "# Klasör yolu ve dosyalar\n",
    "csv_dir = \"../data/2-processed_csv\"\n",
    "files = [f for f in os.listdir(csv_dir) if f.endswith(\"_discharge.csv\")]\n",
    "\n",
    "# Tüm csv'leri okuyup birleştir\n",
    "dfs = []\n",
    "for f in files:\n",
    "    df = pd.read_csv(os.path.join(csv_dir, f))\n",
    "    dfs.append(df)\n",
    "\n",
    "all_data = pd.concat(dfs, ignore_index=True)\n",
    "\n",
    "# battery kolonunu encode et\n",
    "le = LabelEncoder()\n",
    "all_data[\"battery_encoded\"] = le.fit_transform(all_data[\"battery\"])\n",
    "\n",
    "# Kontrol için eşleştirmeyi yazdır\n",
    "battery_map = dict(zip(le.classes_, le.transform(le.classes_)))\n",
    "print(\"Battery label encoding eşlemesi:\", battery_map)\n",
    "\n",
    "# Kayıt\n",
    "all_data.to_csv(\"../data/all_batteries_discharge_combined.csv\", index=False)\n",
    "print(\"✅ Veriler birleştirildi ve kaydedildi: all_batteries_discharge_combined.csv\")\n"
   ]
  },
  {
   "cell_type": "code",
   "execution_count": null,
   "id": "96ba1d5b-715c-4aa7-a7d4-eb8c88138aed",
   "metadata": {},
   "outputs": [],
   "source": []
  }
 ],
 "metadata": {
  "kernelspec": {
   "display_name": "Python [conda env:base] *",
   "language": "python",
   "name": "conda-base-py"
  },
  "language_info": {
   "codemirror_mode": {
    "name": "ipython",
    "version": 3
   },
   "file_extension": ".py",
   "mimetype": "text/x-python",
   "name": "python",
   "nbconvert_exporter": "python",
   "pygments_lexer": "ipython3",
   "version": "3.12.7"
  }
 },
 "nbformat": 4,
 "nbformat_minor": 5
}
